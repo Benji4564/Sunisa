{
 "cells": [
  {
   "cell_type": "code",
   "execution_count": 2,
   "metadata": {},
   "outputs": [
    {
     "name": "stderr",
     "output_type": "stream",
     "text": [
      "e:\\Miniconda\\Enviroments\\transformer-lang\\lib\\site-packages\\tqdm\\auto.py:21: TqdmWarning: IProgress not found. Please update jupyter and ipywidgets. See https://ipywidgets.readthedocs.io/en/stable/user_install.html\n",
      "  from .autonotebook import tqdm as notebook_tqdm\n"
     ]
    },
    {
     "name": "stdout",
     "output_type": "stream",
     "text": [
      "‎𐤀 CLTK version '1.1.6'.\n",
      "Pipeline for language 'Latin' (ISO: 'lat'): `LatinNormalizeProcess`, `LatinStanzaProcess`, `LatinEmbeddingsProcess`, `StopsProcess`, `LatinLexiconProcess`.\n"
     ]
    },
    {
     "data": {
      "text/plain": [
       "Doc(language='lat', words=[Word(index_char_start=None, index_char_stop=None, index_token=0, index_sentence=0, string='Gallia', pos=noun, lemma='Gallia', stem=None, scansion=None, xpos='A1|grn1|casA|gen2', upos='NOUN', dependency_relation='nsubj', governor=3, features={Case: [nominative], Gender: [feminine], Number: [singular]}, category={F: [neg], N: [pos], V: [neg]}, stop=False, named_entity=None, syllables=None, phonetic_transcription=None, definition=''), Word(index_char_start=None, index_char_stop=None, index_token=1, index_sentence=0, string='est', pos=auxiliary, lemma='sum', stem=None, scansion=None, xpos='N3|modA|tem1|gen6', upos='AUX', dependency_relation='cop', governor=3, features={Mood: [indicative], Number: [singular], Person: [third], Tense: [present], VerbForm: [finite], Voice: [active]}, category={F: [pos], N: [neg], V: [pos]}, stop=True, named_entity=None, syllables=None, phonetic_transcription=None, definition='sum\\n\\n (2d pers. es, or old ēs; old subj praes. siem,\\n            siēs, siet, sient, for sim, etc., T.; fuat for sit, T., V., L.;\\n            imperf. often forem, forēs, foret, forent, for essem, etc.;\\n                fut. escunt for erunt, C.), fuī (fūvimus for\\n            fuimus, Enn. ap. C.), futūrus (inf fut. fore or futūrum\\n            esse, C.), esse \\nES-; FEV-. —\\nI. As a predicate, asserting existence, \\nto be, exist, live\\n: ut id aut esse dicamus aut non esse: flumen est Arar,\\n            quod, etc., Cs.: homo nequissimus omnium qui\\n                sunt, qui fuerunt: arbitrari, me nusquam aut nullum fore: fuimus Troes, fuit\\n            Ilium, V.—Of place, \\nto be, be present, be found, stay, live\\n: cum non liceret Romae quemquam esse: cum essemus in\\n                castris: deinceps in lege est, ut, etc.: erat nemo, quicum essem libentius\\n            quam tecum: sub uno tecto esse, L.—Of circumstances or condition, \\nto be, be found, be situated, be placed\\n: Sive erit in Tyriis, Tyrios laudabis\\n            amictūs, i. e. \\nis attired\\n, O.: in servitute: in magno nomine et\\n                gloriā: in vitio: Hic in noxiāst, T.:\\n                in pace, L.: (statua) est\\n                et fuit totā Graeciā summo honore: ego sum spe bonā:\\n                rem illam suo periculo esse, \\nat his own risk\\n: omnem reliquam spem in impetu esse equitum,\\n                L.—In 3\\nd pers\\n., followed by a pron\\n\\nrel., there is\\n (that) \\nwhich, there are\\n (persons) \\nwho, there are\\n (things) \\nwhich, some\\n.—With indic. (the subject conceived as definite): est\\n            quod me transire oportet, \\nthere is a\\n (certain) \\nreason why I must\\n, etc., T.: sunt item quae appellantur\\n            alces, \\nthere are creatures also, which\\n, etc., Cs.: sunt qui putant posse te non\\n            decedere, \\nsome think\\n: Sunt quibus in satirā videor nimis\\n            acer, H.—With subj. (so usu. in prose, and\\n            always with a subject conceived as indefinite): sunt, qui putent esse mortem . . . sunt\\n            qui censeant, etc.: est isdem de rebus quod dici possit subtilius: sunt qui Crustis et\\n            pomis viduas venentur avaras, H.—With dat, \\nto belong, pertain, be possessed, be ascribed\\n: fingeret fallacias, Unde esset adulescenti amicae quod\\n                daret, \\nby which the youth might have something to give\\n, T.: est igitur homini cum deo\\n            similitudo, \\nman has some resemblance\\n: Privatus illis census erat brevis, H.:\\n                Troia et huic loco nomen est,\\n            L.—Ellipt.: Nec rubor est emisse palam (sc. ei), \\nnor is she ashamed\\n, O.: Neque testimoni dictio est (sc.\\n            servo), \\nhas no right to be a witness\\n, T.—With \\ncum\\n and abl\\n\\nof person, to have to do with, be connected with\\n: tecum nihil rei nobis est, \\nwe have nothing to do with you\\n, T.: si mihi tecum minus esset, quam est cum tuis\\n                omnibus.—With \\nab\\n and abl\\n\\nof person, to be of, be the servant of, follow, adhere to, favor, side with\\n: Ab Andriā est ancilla haec,\\n            T.: sed vide ne hoc, Scaevola, totum sit a me, \\nmakes for me\\n.— With \\npro, to be in favor of, make for\\n: (iudicia) partim nihil contra Habitum valere,\\n            partim etiam pro hoc esse.—With \\nex, to consist of, be made up of\\n: (creticus) qui est ex longā et brevi et\\n                longā: duo extremi chorei sunt, id est, e singulis longis et brevibus.—\\nTo be real, be true, be a fact, be the case, be so\\n: sunt ista, Laeli: est ut dicis, inquam: verum\\n            esto: esto, \\ngranted\\n, V.—Esp. in phrases, est ut, \\nit is the case that, is true that, is possible that, there is reason for\\n: sin est, ut velis Manere illam apud te,\\n            T.: est, ut id maxime deceat: futurum esse ut omnes\\n                pellerentur, Cs.: magis est ut\\n            ipse moleste ferat errasse se, quam ut reformidet, etc., i. e. \\nhe has more reason for being troubled . . . than for dreading\\n, etc.: ille erat ut odisset defensorem, etc., \\nhe certainly did hate\\n.—In eo esse ut, etc., \\nto be in a condition to, be possible that, be about to, be on the point of\\n (\\nimpers\\n. or with indef\\n\\nsubj\\n.): cum iam in eo esset, ut in muros evaderet miles, \\nwhen the soldiers were on the point of scaling\\n, L.: cum res non in eo essent ut, etc.,\\n                L.—Est ubi, \\nthere is a time when, sometimes\\n: est, ubi id isto modo valeat.—Est quod, \\nthere is reason to, is occasion to\\n: etsi magis est, quod gratuler tibi, quam quod te\\n            rogem, \\nI have more reason to\\n: est quod referam ad consilium: sin, etc.,\\n            L.: non est quod multa loquamur,\\n            H.—Est cur, \\nthere is reason why\\n: quid erat cur Milo optaret, etc., \\nwhat cause had Milo for wishing?\\n etc.—With inf, \\nit is possible, is allowed, is permitted, one may\\n: Est quādam prodire tenus, si non datur\\n            ultra, H.: scire est liberum Ingenium atque\\n                animum, T.: neque est te fallere\\n            quicquam, V.: quae verbo obiecta, verbo negare\\n                sit, L.: est videre argentea vasa,\\n                Ta.: fuerit mihi eguisse aliquando tuae\\n            amicitiae, S.—Of events, \\nto be, happen, occur, befall, take place\\n: illa (solis defectio) quae fuit regnante Romulo: Amabo,\\n                quid tibi est?\\nT.: quid, si . . . futurum nobis est? L.—\\nTo come, fall, reach, be brought, have arrived\\n: ex eo tempore res esse in vadimonium coepit: quae ne in\\n                potestatem quidem populi\\nR. esset, L.—\\nII. As a copula, \\nto be\\n: et praeclara res est et sumus otiosi: non sum ita hebes, ut\\n                istud dicam: Nos numerus sumus, \\na mere number\\n, H.: sic, inquit, est: est ut dicis: frustra id\\n                inceptum Volscis fuit, L.: cum in convivio\\n                comiter et iucunde fuisses: quod in maritimis facillime sum, \\nam very glad to be\\n.—With gen\\n\\npart., to be of, belong to\\n: qui eiusdem civitatis fuit, N.:\\n                qui Romanae partis erant, L.: ut aut amicorum aut inimicorum Campani simus,\\n            L.— With gen\\n\\npossess., to belong to, pertain to, be of, be the part of, be peculiar to, be\\n                    characteristic of, be the duty of\\n: audiant eos, quorum summa est auctoritas apud,\\n            etc., \\nwho possess\\n: ea ut civitatis Rhodiorum essent, L.:\\n                Aemilius, cuius tum fasces erant, L.:\\n                plebs novarum rerum atque Hannibalis tota esse, \\nwere devoted to\\n, L.: negavit moris esse Graecorum, ut,\\n            etc.—With pron\\n\\npossess.\\n: est tuum, Cato, videre quid agatur: fuit meum quidem iam\\n                pridem rem p. lugere.—With \\ngerundive\\n: quae res evertendae rei p. solerent esse, \\nwhich were the usual causes of ruin to the state\\n: qui utilia ferrent, quaeque aequandae libertatis\\n            essent, L.— With gen. or abl. of \\nquality, to be of, be possessed of, be characterized by, belong to, have,\\n                    exercise\\n: nimium me timidum, nullius consili fuisse confiteor: Sulla\\n                gentis patriciae nobilis fuit, S.: civitas\\n                magnae auctoritatis, Cs.: refer, Cuius\\n                fortunae (sit), H.: nec magni\\n            certaminis ea dimicatio fuit, L.: bellum\\n                variā victoriā fuit, S.: tenuissimā valetudine esse, Cs.: qui capite et superciliis semper est rasis.—With\\n            gen. or abl. of \\nprice or value, to be of, be valued at, stand at, be appreciated, cost\\n: videtur esse quantivis preti, T.:\\n                ager nunc multo pluris est, quam tunc fuit: magni erunt\\n            mihi tuae litterae: sextante sal et Romae et per totam Italiam erat, \\nwas worth\\n, L.—With dat\\n\\npredic\\n., to express definition or purpose, \\nto serve for, be taken as, be regarded as, be felt to be\\n: vitam hanc rusticam tu probro et crimini putas esse\\n                oportere, \\nought to be regarded as\\n: eo natus sum ut Iugurthae scelerum ostentui\\n            essem, S.: ipsa res ad levandam annonam\\n                impedimento fuerat, L.—With second dat\\n\\nof pers.\\n: quo magis quae agis curae sunt mihi,\\n            T.: illud Cassianum, ‘cui bono\\n                fuerit,’\\n\\nthe inquiry of Cassius\\n, ‘\\nfor whose benefit was it\\n’: haec tam parva civitas praedae tibi et quaestui\\n                fuit.—\\nTo be sufficient for, be equal to, be fit\\n: sciant patribus aeque curae fuisse, ne, etc.,\\n                L.: ut divites conferrent, qui oneri ferendo\\n            essent, \\nsuch as were able to bear the burden\\n, L.: cum solvendo aere (old\\ndat. for aeri) alieno res p. non esset, L.—With \\nellips\\n. of \\naeri\\n: tu nec solvendo eras, \\nwast unable to pay\\n.—With \\nad, to be of use for, serve for\\n: res quae sunt ad incendia, Cs.:\\n                valvae, quae olim ad ornandum templum erant\\n            maxime.—With \\nde, to be of, treat concerning, relate to\\n: liber, qui est de animo.—In the phrase,\\n            id est, or hoc est, in explanations, \\nthat is, that is to say, I mean\\n: sed domum redeamus, id est ad nostros revertamur:\\n            vos autem, hoc est populus R., etc., S.'), Word(index_char_start=None, index_char_stop=None, index_token=2, index_sentence=0, string='omnis', pos=determiner, lemma='omnis', stem=None, scansion=None, xpos='C1|grn1|casA|gen2', upos='DET', dependency_relation='det', governor=3, features={Case: [nominative], Gender: [feminine], Number: [singular], PrononimalType: [indefinite]}, category={F: [pos], N: [pos], V: [neg]}, stop=False, named_entity=None, syllables=None, phonetic_transcription=None, definition='omnis e (omnia, disyl., V.), adj. I. Plur, all, every: studia omnia nostra, S.: nemo omnium imperatorum, qui vivunt, L.: cur adimi civitas non omnibus antiquissimis civibus possit, all, even of the oldest families: omnium auxilia, etiam infimorum.—Distributively, every, of every kind, all, all sorts: omnes omnium ordinum homines: omnibus precibus petere contendit, with every form of prayer, Cs.: erat ex omnibus castris despectus, all parts of the camp, Cs.: a te, qui nobis omnia summa tribuis, everything noble: constituit extrema omnia experiri, S.: omnia ultima pati, suffer the worst, L.—As subst m. and f all men, all persons: audacissimus ego ex omnibus: Macedonum omnes, L.: omnes Tarquiniae gentis, L.— As subst n., all things, everything: omnia se amici causā esse facturos, make every exertion: omnia fore prius arbitratus sum, quam, etc., should have believed anything, rather, etc.: omnia se cetera pati, everything else: in eo sunt omnia, everything depends on that: qui nobis omnia solus erat, was my all, O.: omnia Mercurio similis, in all respects, V.: Omnia debemur vobis, all we have and are is due, O.—II. Sing, every, all, the whole: militat omnis amans, every lover, O.: sine omni periclo (i. e. ullo), without any, T.: ne sine omni quidem sapientiā, a complete philosophy: materia ad omnem laudem, every kind of, L.: cenare olus omne, H.: Gallia est omnis divisa, the whole of Gallia, Cs.: sanguinem suum omnem profundere: omnis in hoc sum, am engrossed, H.—As subst n., everything: ab omni quod abhorret . . . fugiamus.'), Word(index_char_start=None, index_char_stop=None, index_token=3, index_sentence=0, string='divisa', pos=adjective, lemma='divisa', stem=None, scansion=None, xpos='A1|grn1|casA|gen2', upos='ADJ', dependency_relation='root', governor=-1, features={Case: [nominative], Degree: [positive], Gender: [feminine], Number: [singular]}, category={F: [neg], N: [pos], V: [pos]}, stop=False, named_entity=None, syllables=None, phonetic_transcription=None, definition=''), Word(index_char_start=None, index_char_stop=None, index_token=4, index_sentence=0, string='in', pos=adposition, lemma='in', stem=None, scansion=None, xpos='S4', upos='ADP', dependency_relation='case', governor=5, features={AdpositionalType: [preposition]}, category={F: [pos], N: [neg], V: [neg]}, stop=True, named_entity=None, syllables=None, phonetic_transcription=None, definition='in  old indu, prep. with acc. or abl. I. With acc., in space, with verbs implying entrance, into, to: in Epirum venire: in flumen deicere: in Ubios legatos mittere, Cs.: Thalam pervenit, in oppidum magnum, S.—Fig.: in memoriam reducere: in animum inducere, L.: dicam quod mi in mentemst, T.—With verbs of motion, up to, to, into, down to: in caelum ascendere: in aram confugitis ad deum, up to the altar: vas in manūs sumere, into his hands: se in manūs Romanis tradidisse, L.—With verbs of rest or placing, in: adesse in senatum iussit: Minucius in custodiam habitus, thrown into prison and kept there, L.: propinquas suas nuptum in alias civitates conlocasse, Cs.—Of direction or local relation, towards, in front of, over against: in orientem Germaniae obtenditur, Ta.: coram in os te laudare, T.: castra movet in Arvernos versus, towards, Cs.: in Galliam versus movere, S.—In time, into, till, for: dormiet in lucem, till broad day, H.: in multum diei, L.: e somno, quem in diem extrahunt, Ta.: indutias in triginta annos impetraverunt, for thirty years, L.: in omne tempus, forever: hominem invitavit in posterum diem, for the following day.— In adverbial expressions with words of time: sancit in posterum, ne quis, etc., hereafter: res dilata est in posterum, to a later day: et in praesentia hi et in futurum metum ceperunt, L.: in perpetuum fore: non in tempus aliquod, sed in aeternum, L.: ex raptis in diem commeatibus, for immediate use, L.: fundum emere in diem, i. e. a fixed day of payment, N.: in dies singulos, each succeeding day: in dies, day by day, L.: nos in diem vivimus, for the moment: in diem et horam, every day, H.: in horas, hourly, H.—Of reference, in relation to, about, respecting, towards, against: id, quod est in philosophos dictum, concerning: carmen, quod in eum scripsisset: in liberos nostros indulgentia: impietates in deos, against: in dominum quaeri, as a witness against: invehi in Thebanos, N.: hominis definitio una in omnīs valet, applies to: in obsequium pronus, H.: in utrumque paratus, V.: in incertum, ne, etc., in view of the uncertainty, whether, L.—Of purpose, for, with a view to: haec civitas mulieri in redimiculum praebeat: Regium in praesidium missa legio, as a garrison, L.: in gratiam sociorum, to gratify, L.: Quos audere in proelia vidi, V.: praemia, in quorum spem pugnarent, L.: in spem pacis solutis animis, L.: Ingrata misero vita ducenda est in hoc, ut, etc., H.: satis in usum, for immediate wants, L. —Of result, to, unto, so as to produce: in familiae luctum nupsit: Excisum Euboicae latus ingens rupis in antrum, V.: commutari ex veris in falsa. —In the phrases, in tantum, so far, so greatly: nec In tantum spe tollet avos, V.: in tantum suam felicitatem enituisse, L.—In rem esse, to be useful, avail: si in rem est Bacchidis, T.: imperat, quae in rem sunt, L.: in rem fore credens universos adpellare, S.—Of manner, according to, after: ille in eam sententiam versus, to this effect: in utramque partem disputat, on both sides: cives servilem in modum cruciati, like slaves: vaticinantis in modum canere, L.: virtutem in maius celebrare, S.: in hanc formulam iudicia: sc. in haec verba factum, L.: in universum, in general, L.: in universum aestimanti, upon a general view, Ta.—Of distribution, into, for, according to: Gallia divisa est in partīs trīs, Cs.: describebat censores binos in singulas civitates, i. e. for each state: sextantibus conlatis in capita, a head, L.—Praegn.: in eorum potestatem portum futurum intellegebant. would fall: in potestatem Locrensium esse, L. II. With abl., of space, in, within: in cerebro animi esse sedem: quae res in nostris castris gererentur, Cs.: in foro palam Syracusis: (caedes) in viā facta: nupta in domo, L.: copias in castris continent, Cs.: in tuā sedeculā sedere: Heri coīmus in Piraeo, T.: navis et in Caietā parata.—Of position, on, upon, over, among, before, in, under: in equo sedens, on horseback: in eo flumine pons erat, over, Cs.: multā te in rosā urget, H.: Caesaris in barbaris erat nomen obscurius, among, Cs.: in Brutiis praeesse, L.: in manu poculum tenens: est in manibus oratio: gloria in oculis sita, S.: populari in oculis eius agros, under, L.—In, with, wearing, under, clad, covered: in veste candidā, L.: in lugubri veste, Cu.: homines in catenis Romam mittere, L.: in violā aut in rosā, garlanded: legiones in armis, Cs.—Of a multitude or number, in, among, of: In his poëta hic nomen profitetur suom, T.: sapientissimus in septem: eum in tuis habere: iustissimus unus in Teucris, V.—Of writings, in: in populorum institutis aut legibus: in Timaeo dicit: perscribit in litteris, hostīs ab se discessisse, Cs.: in Thucydide orbem modo orationis desidero, in the style of.—Fig., of mind or character, in: in animo habere: quanta auctoritas fuit in Metello!: in omni animante est summum aliquid.—In phrases, with manibus or manu, at hand, under control, within reach: quamcunque rem habent in manibus: neque mihi in manu fuit Iugurtha qualis foret, in my power, S.: cum tantum belli in manibus esset, on their hands, L.: quorum epistulas in manu teneo.—With loco: in eo loco, in that state, in such a condition: in eo enim loco res sunt nostrae, ut, etc., L.: quo in loco res esset, cognoscere, Cs.: quod ipse, si in eodem loco esset, facturus fuerit, L.—In eo esse ut, etc., to be in such a condition, etc.: cum in eo esset, ut, etc., the situation was such, L.—Of time, in, during, in the course of, within: in tempore hoc, T.: in tali tempore, L.: in diebus paucis, T.: Tam in brevi spatio, T.: in omni aetate: in totā vitā inconstans.—In, while, during: fit, ut distrahatur in deliberando animus: in dividendo partem in genere numerare: in agris vastandis, in laying waste, Cs.: cum in immolandā Iphigeniā tristis Calchas esset.—In phrases, in tempore, in time, at the right time, seasonably: ipsum video in tempore huc se recipere, T.: spreta in tempore gloria interdum cumulatior redit, L.—In praesentiā, at present, now, for the moment, under existing circumstances: sic enim mihi in praesentiā occurrit: id quod unum maxime in praesentiā desiderabatur, L.—In praesenti, for the present: haec ad te in praesenti scripsi, ut, etc.: talenta centum in praesenti, down, L.—Of condition or occupation, in, subject to, affected by, experiencing, engaged in, involved in: magno in aere alieno: torpescentne dextrae in amentiā illā? L.: diem in laetitiā degere, T.: civitas, quae tibi in amore fuit, beloved: in invidiā esse, L.: quod in summis tuis occupationibus voluisti, etc., when engrossed by: in eo magistratu pari diligentiā se praebuit, N.: esse in vitio, in the wrong: hoc est in vitio, perhorrescere, etc., is wrong.—In the case of, in relation to: numcubi meam Benignitatem sensisti in te claudier? in your case (i. e. towards you), T.: facere in eo, cuius, etc., in the case of the man, Cs.: in furibus aerari, S.: Achilles talis in hoste fuit, V.: in hoc homine saepe a me quaeris, etc., in the case of.— In phrases, with summā, in all, in a word, in fine: in omni summā me ad pacem converto.—With neut. sing. of an adj. (expressing more abstractly the quality): cum exitūs haud in facili essent (i. e. haud faciles), L.: in obscuro vitam habere, S.: in dubio esse, L.: in integro esse: in tuto esse, L.: in aequo esse, L.: in aperto esse, S.: in promisco esse, L.: in incerto haberi, S. III. In composition, in retains its n before vowels, and before h, c, d, f, g, consonant i, n, q, s, t, v, usually also before l and r, and very frequently before m, b, p. But the n is usually assimilated before m, b, p, and often before l, r.'), Word(index_char_start=None, index_char_stop=None, index_token=5, index_sentence=0, string='partes', pos=noun, lemma='pars', stem=None, scansion=None, xpos='C1|grn1|casM|gen2', upos='NOUN', dependency_relation='obl', governor=3, features={Case: [accusative], Gender: [feminine], Number: [plural]}, category={F: [neg], N: [pos], V: [neg]}, stop=False, named_entity=None, syllables=None, phonetic_transcription=None, definition='pars\\n\\n partis (acc. partim or partem), f\\n\\n2 PAR-, \\na part, piece, portion, share, division, section\\n: ne expers partis esset de nostris bonis,\\n            T.: duabus partibus amplius frumenti, \\ntwice as much\\n: inferior fluminis, Cs.: copias in quattuor partīs distribuerat, S.:\\n                in partem praedae suae vocatos deos, L.:\\n                in partem veniat mea gloria tecum, \\nbe shared with thee\\n, O.: multa pars mei, \\na great part\\n, H.: Scorpios, pars violentior Natalis\\n            horae, i. e. \\ninfluence\\n, H.— \\nCollect., some, part, several, many\\n (out of a greater number): pars levem ducere equitum iacturam; pars, etc.,\\n                L.: pars triumphos suos ostentantes,\\n            S.: maior pars populi, \\nthe majority\\n: Maxima pars hominum, \\nmost men\\n, H.: minor pars populi, \\na minority\\n.—Of one person: pars Niliacae plebis, Crispinus,\\n                Iu.—Abl\\n\\nsing. adverb., in part, partly\\n: (poma) quae candida parte, Parte rubent,\\n            O.: ab semisomnis ac maximā parte inermibus\\n                refringi, \\nmostly\\n, L.: exercitus magnā parte\\n                pestilentiā absumptus, \\nin large part\\n, L.: nullā parte, \\nby no means\\n, O.: omni parte virium impar, \\nutterly\\n, L.: omni parte laborare, \\nwholly\\n, H.—With \\npro\\n: ut eidem pro parte conferrent, etc., \\nfor their share\\n: pro suā parte, \\nfor his own part\\n: pro meā parte adiuvi, ut, etc., \\nwith my best efforts\\n: pro virili parte adnitendum, L.:\\n                Quisquis adest operi, plus quam pro parte laborat,\\n                O.—With \\nex\\n: onus ex parte adlevare, \\npartly\\n: decemviri ex parte de plebe creandi,\\n            L.: ullā ex parte, \\nin any degree\\n: ex parte magnā tibi adsentior, \\nto a large extent\\n: ne minimā quidem ex parte, \\nnot in the slightest degree\\n: omnia ex alterā parte conlocata, i. e. \\nin opposition\\n: ex alterā parte cernere, \\non the other hand\\n, L.—With \\nab\\n: ab omni parte beatus, \\nin all respects\\n, H.: omnique a parte placebam, \\nwholly\\n, O.—Abl\\n\\nplur\\n., with \\nmultis or omnibus\\n: non multis partibus malit, \\nby a great deal\\n: numero multis partibus inferior, \\nfar\\n, Cs.: in Hortensi sententiam multis partibus\\n                plures ituros, \\nthe great majority\\n: omnibus partibus, \\nin all respects.—Acc. sing\\n., with \\nmagnam or maximam, in great part, for the most part\\n: magnam partem ex iambis nostra constat oratio: maximam\\n                partem lacte vivunt, Cs.—Acc\\n\\nsing\\n., with \\nin\\n: in eam partem accipio, i. e. \\nin that sense\\n, T.: in eam partem peccant, \\ndirection\\n: moveor his rebus omnibus, sed in eam partem, ut,\\n            etc., \\nin such manner\\n: has litteras scripsi in eam partem, ne, etc., \\nto the end\\n: Rapere in peiorem partem, \\nput the worst construction on\\n, T.: in utramque partem, \\nin both directions\\n: id tuā nullam in partem interesse, \\nin no way\\n: Quodsi pudica mulier in partem iuvet Domum, i. e. \\nfilling her place\\n, H.—Acc\\n\\nplur\\n., with \\nin\\n: Brundusi iacere in omnes partīs est\\n            molestum, \\nin every way\\n.—Meton., \\na party, faction, side\\n: nostrae timeo parti, T.: studia partium, S.: nullius\\n            partis esse: ut alius in aliam partem mente traheretur, Cs.:\\n                erat illarum partium: in duas partīs discedunt\\n            Numidae, S.—Plur., on the stage, \\na part, character, assumed person\\n: primas partīs agere, \\nthe principal <*>aracter\\n, T.: partīs seni dare quae sunt\\n                adulescentium, \\na youthful part\\n, T.: secundae, \\ninferior\\n, H.: ad partīs parati,\\n                L.—\\nA part, function, office, duty\\n: priores partīs apud me habere,\\n            T.: legati partes, Cs.: partīs accusatoris obtinere: Antoni audio esse\\n            partīs, ut de totā eloquentiā disserat: haec igitur tibi\\n            reliqua pars est . . . ut rem p. constituas, etc.—\\nA part, place, region, district, country\\n: quālibet In parte regnanto,\\n            H.: Orientis partes: in extremis ignoti partibus\\n            orbis, O.—In enumeration, \\na part, fraction\\n: tres iam copiarum partes, \\nfourths\\n, Cs.: agri partes duae, \\nthirds\\n, L.: mulctae novem partes, \\ntenths\\n, N.—\\nA part of the body, member\\n: lingua mali pars pessima servi, Iu.\\n            —Esp., \\nthe private parts\\n, O., Ph.'), Word(index_char_start=None, index_char_stop=None, index_token=6, index_sentence=0, string='tres', pos=numeral, lemma='tres', stem=None, scansion=None, xpos='C1|grn1|casM|gen2|vgr1', upos='NUM', dependency_relation='nummod', governor=5, features={Case: [accusative], Gender: [feminine], Numeral: [cardinal], Number: [plural]}, category={F: [pos], N: [pos], V: [neg]}, stop=False, named_entity=None, syllables=None, phonetic_transcription=None, definition='trēs (trīs)\\n\\n tria, gen. trium, acc. trēs or\\n            trīs, adj. num.\\n\\ncf. Gr. trei=s; Engl. three, \\nthree\\n: trīs legatos deligere: horum trium generum\\n                quodvis: tria non commutabitis Verba inter vos, \\nnot three words\\n, i. e. \\nnothing\\n, T.: ego tribus primis verbis (dixi), \\nat the first three words\\n.')], pipeline=None, raw='Gallia est omnis divisa in partes tres', normalized_text='Gallia est omnis divisa in partes tres')"
      ]
     },
     "execution_count": 2,
     "metadata": {},
     "output_type": "execute_result"
    }
   ],
   "source": [
    "from cltk import NLP\n",
    "\n",
    "# Initialize the Latin language processor\n",
    "cltk_nlp = NLP(language=\"lat\")\n",
    "cltk_nlp.analyze(text=\"Gallia est omnis divisa in partes tres\")"
   ]
  },
  {
   "cell_type": "code",
   "execution_count": 3,
   "metadata": {},
   "outputs": [],
   "source": [
    "from cltk.lemmatize import LatinBackoffLemmatizer\n",
    "\n",
    "lemmatizer = LatinBackoffLemmatizer()\n",
    "\n",
    "def get_lemma(word):\n",
    "    lemmatized_word = lemmatizer.lemmatize([word])\n",
    "    return lemmatized_word[0][1]\n",
    "\n"
   ]
  },
  {
   "cell_type": "code",
   "execution_count": 4,
   "metadata": {},
   "outputs": [],
   "source": [
    "latin_numerals = {\n",
    "    'I': 1,\n",
    "    'V': 5,\n",
    "    'X': 10,\n",
    "    'L': 50,\n",
    "    'C': 100,\n",
    "    'D': 500,\n",
    "    'M': 1000\n",
    "}\n",
    "\n",
    "def translate_latin_to_normal(latin_numeral):\n",
    "    total = 0\n",
    "    prev_value = 0\n",
    "\n",
    "    for numeral in reversed(latin_numeral):\n",
    "        value = latin_numerals.get(numeral, 0)\n",
    "\n",
    "        if value >= prev_value:\n",
    "            total += value\n",
    "        else:\n",
    "            total -= value\n",
    "\n",
    "        prev_value = value\n",
    "\n",
    "    return total"
   ]
  },
  {
   "cell_type": "code",
   "execution_count": 30,
   "metadata": {},
   "outputs": [],
   "source": [
    "class VariableDeclarationException(Exception):\n",
    "    pass\n",
    "\n",
    "class IfStatementException(Exception):\n",
    "    pass"
   ]
  },
  {
   "cell_type": "code",
   "execution_count": 6,
   "metadata": {},
   "outputs": [],
   "source": [
    "stack = []\n",
    "programmCounter = -1"
   ]
  },
  {
   "cell_type": "code",
   "execution_count": 44,
   "metadata": {},
   "outputs": [],
   "source": [
    "def findByCase(target_case, words):\n",
    "    return [entry[\"lemma\"] for entry in words if entry[\"pos\"] == \"NOUN\" and target_case in str(entry['features'][\"Case\"])]\n",
    "\n",
    "def findNumber(words):\n",
    "    return [entry[\"lemma\"] for entry in words if entry[\"pos\"] == \"NUM\"]\n",
    "\n",
    "def findObjektAttributes(stack, variableName):\n",
    "    for i in stack:\n",
    "        if i[\"object\"] == variableName:\n",
    "            return i"
   ]
  },
  {
   "cell_type": "code",
   "execution_count": 46,
   "metadata": {},
   "outputs": [],
   "source": [
    "def findVariableDefinitions(words) -> bool: # auf doppelte Variablen prüfen\n",
    "    #for word in words:\n",
    "    if any(entry[\"lemma\"]==\"appero\" for entry in words):\n",
    "        target_case = '[nominative]'\n",
    "        matching_words = [entry['word'] for entry in words if entry[\"pos\"] == \"NOUN\" and target_case in str(entry['features'][\"Case\"])]\n",
    "        if len(matching_words) == 1:\n",
    "            stack.append({\"object\": matching_words[0], \"attributes\": []})\n",
    "            return True\n",
    "        elif len(matching_words) > 1:\n",
    "            raise VariableDeclarationException(\"More than one variable found\")\n",
    "    return False\n",
    "\n",
    "def findVariableAssignments(words) -> bool:\n",
    "    #words = [{\"word\": word.string, \"pos\": word.upos, \"features\": word.features, \"lemma\": word.lemma} for word in analysis.words]\n",
    "    foundNumbers = [entry['word'] for entry in words if entry[\"pos\"] == \"NUM\"]\n",
    "    if len(foundNumbers) == 1:\n",
    "        target_case = 'nominative'\n",
    "        foundVariable = findByCase(target_case, words)\n",
    "        if len(foundVariable) == 1:\n",
    "            variable = foundVariable[0]\n",
    "            for i in stack:\n",
    "                if i[\"object\"] == variable:\n",
    "                    target_case = 'accusative'\n",
    "                    foundAttributes = findByCase(target_case, words)\n",
    "                    if len(foundAttributes) == 1:\n",
    "                        i[\"attributes\"].append({\"name\": get_lemma(foundAttributes[0]), \"type\": \"number\", \"value\": translate_latin_to_normal(foundNumbers[0])})\n",
    "                    \n",
    "                    \n",
    "                    # i[\"value\"] = translate_latin_to_normal(foundNumbers[0])\n",
    "                    # i[\"type\"] = \"number\"\n",
    "                    break\n",
    "        return True\n",
    "    return False\n",
    "\n",
    "\n",
    "\n",
    "def ifCondition(words) -> bool:\n",
    "    beforeComma = []\n",
    "    afterComma = []\n",
    "    foundComma = False\n",
    "    if not any(entry[\"lemma\"]==\"si\" for entry in words):\n",
    "        return False\n",
    "    for word in words:\n",
    "        if word[\"word\"] == \",\":\n",
    "            foundComma = True\n",
    "        elif not foundComma:\n",
    "            beforeComma.append(word)\n",
    "        else:\n",
    "            afterComma.append(word)\n",
    "    if len(beforeComma) == 0 or len(afterComma) == 0:\n",
    "        raise IfStatementException(\"If statement is missing a segment\")\n",
    "    \n",
    "    \n",
    "    \n",
    "    target_case = 'nominative'\n",
    "    foundVariable = findByCase(target_case, beforeComma)\n",
    "    print(foundVariable)\n",
    "    target_case = 'accusative'\n",
    "    foundAttributes = findByCase(target_case, beforeComma)\n",
    "    print(foundAttributes)\n",
    "    foundNumber = findNumber(beforeComma)\n",
    "    print(foundNumber)\n",
    "    if not (len(foundVariable) == 1 and len(foundAttributes) == 1 and len(foundNumber) == 1):\n",
    "        raise IfStatementException(\"If statement got to many or to few arguments\")\n",
    "    print(findObjektAttributes(stack, foundVariable[0]))\n",
    "    for attribute in findObjektAttributes(stack, foundVariable[0])[\"attributes\"]:\n",
    "        if attribute[\"name\"] == get_lemma(foundAttributes[0]):\n",
    "            if attribute[\"value\"] == translate_latin_to_normal(foundNumber[0]):\n",
    "                print(\"true\")\n",
    "                return True\n",
    "    \n",
    "    \n",
    "    \n",
    "    \n",
    "    \n",
    "    \n",
    "    \n",
    "    \n",
    "    \n",
    "    return False\n",
    "    \n",
    "    \n",
    "    \n",
    "    # if any(entry[\"lemma\"]==\"si\" for entry in words):\n",
    "    #     target_case = '[nominative]'\n",
    "    #     foundVariable = [entry['word'] for entry in words if entry[\"pos\"] == \"NOUN\" and target_case in str(entry['features'][\"Case\"])]\n",
    "    #     if len(foundVariable) == 1:\n",
    "    #         variable = foundVariable[0]\n",
    "    #         for i in stack:\n",
    "    #             if i[\"name\"] == variable:\n",
    "    #                 print(i[\"value\"])"
   ]
  },
  {
   "cell_type": "code",
   "execution_count": 48,
   "metadata": {},
   "outputs": [
    {
     "name": "stdout",
     "output_type": "stream",
     "text": [
      "['Herkules']\n",
      "['asinus']\n",
      "['X']\n",
      "{'object': 'Herkules', 'attributes': [{'name': 'asinus', 'type': 'number', 'value': 9}, {'name': 'nauta', 'type': 'number', 'value': 5}]}\n",
      "[{'object': 'Herkules', 'attributes': [{'name': 'asinus', 'type': 'number', 'value': 9}, {'name': 'nauta', 'type': 'number', 'value': 5}]}, {'object': 'Flavia', 'attributes': [{'name': 'collega', 'type': 'number', 'value': 3}]}]\n"
     ]
    }
   ],
   "source": [
    "stack = []\n",
    "programmCounter = -1\n",
    "\n",
    "\n",
    "with open(\"text.txt\") as f:\n",
    "    text = f.readlines()\n",
    "    for i in range(len(text)):\n",
    "        programmCounter += 1\n",
    "        line = text[i]\n",
    "        words = []\n",
    "        analysis = cltk_nlp.analyze(text=line)\n",
    "        words = [{\"word\": word.string, \"pos\": word.upos, \"features\": word.features, \"lemma\": word.lemma} for word in analysis.words]\n",
    "        \n",
    "        \n",
    "        if ifCondition(words):\n",
    "            continue\n",
    "        elif findVariableDefinitions(words):\n",
    "            continue\n",
    "        elif findVariableAssignments(words):\n",
    "            continue\n",
    "\n",
    "    print(stack)"
   ]
  }
 ],
 "metadata": {
  "kernelspec": {
   "display_name": "transformer-lang",
   "language": "python",
   "name": "python3"
  },
  "language_info": {
   "codemirror_mode": {
    "name": "ipython",
    "version": 3
   },
   "file_extension": ".py",
   "mimetype": "text/x-python",
   "name": "python",
   "nbconvert_exporter": "python",
   "pygments_lexer": "ipython3",
   "version": "3.10.10"
  },
  "orig_nbformat": 4
 },
 "nbformat": 4,
 "nbformat_minor": 2
}
