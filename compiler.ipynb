{
 "cells": [
  {
   "cell_type": "code",
   "execution_count": null,
   "metadata": {},
   "outputs": [],
   "source": [
    "from cltk import NLP\n",
    "\n",
    "# Initialize the Latin language processor\n",
    "cltk_nlp = NLP(language=\"lat\")\n",
    "cltk_nlp.analyze(text=\"Gallia est omnis divisa in partes tres\")"
   ]
  },
  {
   "cell_type": "code",
   "execution_count": 42,
   "metadata": {},
   "outputs": [],
   "source": []
  },
  {
   "cell_type": "code",
   "execution_count": 34,
   "metadata": {},
   "outputs": [],
   "source": [
    "latin_numerals = {\n",
    "    'I': 1,\n",
    "    'V': 5,\n",
    "    'X': 10,\n",
    "    'L': 50,\n",
    "    'C': 100,\n",
    "    'D': 500,\n",
    "    'M': 1000\n",
    "}\n",
    "\n",
    "def translate_latin_to_normal(latin_numeral):\n",
    "    total = 0\n",
    "    prev_value = 0\n",
    "\n",
    "    for numeral in reversed(latin_numeral):\n",
    "        value = latin_numerals.get(numeral, 0)\n",
    "\n",
    "        if value >= prev_value:\n",
    "            total += value\n",
    "        else:\n",
    "            total -= value\n",
    "\n",
    "        prev_value = value\n",
    "\n",
    "    return total"
   ]
  },
  {
   "cell_type": "code",
   "execution_count": null,
   "metadata": {},
   "outputs": [],
   "source": [
    "class VariableException(Exception):\n",
    "    pass"
   ]
  },
  {
   "cell_type": "code",
   "execution_count": 48,
   "metadata": {},
   "outputs": [
    {
     "name": "stdout",
     "output_type": "stream",
     "text": [
      "Added variable Herkules\n",
      "[Word(index_char_start=None, index_char_stop=None, index_token=0, index_sentence=0, string='Herkules', pos=noun, lemma='Herkules', stem=None, scansion=None, xpos='C1|grn1|casA|gen2', upos='NOUN', dependency_relation='nsubj', governor=1, features={Case: [nominative], Gender: [feminine], Number: [singular]}, category={F: [neg], N: [pos], V: [neg]}, stop=False, named_entity=None, syllables=None, phonetic_transcription=None, definition=''), Word(index_char_start=None, index_char_stop=None, index_token=1, index_sentence=0, string='habet', pos=verb, lemma='habeo', stem=None, scansion=None, xpos='K3|modA|tem1|gen6', upos='VERB', dependency_relation='root', governor=-1, features={Aspect: [imperfective], Mood: [indicative], Number: [singular], Person: [third], Tense: [present], VerbForm: [finite], Voice: [active]}, category={F: [neg], N: [neg], V: [pos]}, stop=False, named_entity=None, syllables=None, phonetic_transcription=None, definition=\"habeō\\n\\n uī (old perf subj. habessit for habuerit,\\n            C.), itus, ēre \\nHAB-, \\nto have, hold, support, carry, wear\\n: arma: anulum: arma hic paries habebit,\\n            H.: coronam in capite: soccos et pallium: catenas: Faenum\\n                in cornu, H.: aquilam in exercitu,\\n                S.—\\nTo have, hold, contain\\n: quod (fanum) habebat auri: non me Tartara habent,\\n                V.: quem quae sint habitura deorum Concilia,\\n            etc., V.: Quae regio Anchisen habet?\\nV.: quod habet lex in se: suam (nutricem) cinis ater\\n                habebat, V.—\\nTo have, hold, occupy, inhabit\\n: urbem, S.: arcem:\\n                quā Poeni haberent (sc. castra), L.: Hostis habet muros, V. —Of relation or\\n            association, \\nto have\\n: in matrimonio Caesenniam: eos in loco patrui: uxores:\\n                patrem: (legionem) secum, Cs.: apīs in iubā: mecum scribas: quibus vendant, habere,\\n                Cs.: conlegam in praeturā Sophoclem:\\n                civitates stipendiarias, Cs.: cognitum\\n                Scaevolam: inimicos civīs: duos amicissimos: eum nuptiis adligatum: quem\\n                pro quaestore habuit.—\\nTo have, be furnished with\\n: voltum bonum, S.: pedes quinque: Angustos aditūs, V.: manicas, V.—\\nTo have, hold, keep, retain, detain\\n: haec cum illis sunt habenda (opp. mittenda),\\n                T.: si quod accepit habet: Bibulum in\\n            obsidione, Cs.: in liberis custodiis\\n            haberi, S.: in vinculis habendi,\\n                S.: mare in potestate, Cs.:\\n                in custodiam habitus, \\nlodged\\n, L.: ordines, \\npreserve\\n, S.: alios in eā\\n            fortunā, ut, etc., L.: exercitus sine inperio\\n                habitus, S.: Marium post\\n            principia, \\nstation\\n, S.: Loricam Donat habere viro, \\ngives to keep\\n, V.: inclusum senatum.—Of\\n            ownership or enjoyment, \\nto have, own, possess, be master of\\n: agros: Epicratis bona omnia: in Italiā fundum:\\n                quod non desit, H.: (divitias)\\n            honeste, \\nenjoy\\n, S.: (leges) in monumentis habemus, i.\\n            e. \\nare extant\\n: sibi hereditatem: illam suas res sibi habere iussit (the\\n                formula of divorcing a wife): in vestrā amicitiā\\n            divitias, S.: nos Amaryllis habet, \\nhas my love\\n, V.: habeo, non habeor a Laide: habet in nummis,\\n                in praediis, \\nis rich\\n: ad habendum nihil satis esse: amor habendi,\\n                V.: Unde habeas, quaerit nemo, sed oportet\\n            habere, Iu.—\\nTo have, get, receive, obtain\\n: a me vitam, fortunas: imperium a populo\\nR.: habeat hoc praemi tua indignitas: granum ex\\n                provinciā: plus dapis, H.: Partem\\n                opere in tanto, \\na place\\n, V.: graviter ferit atque ita fatur, Hoc\\n            habet, \\nit reaches him\\n, V.: certe captus est, habet! (i. e.\\n            volneratus est) T.—\\nTo find oneself, be, feel, be situated, be off, come off\\n: se non graviter: bene habemus nos: praeclare se res\\n                habebat: quo pacto se habeat provincia: bene habent tibi principia,\\n                T.: bene habet, \\nit is well\\n: atqui Sic habet, H.: credin te inpune habiturum?\\n\\nescape punishment\\n, T.: virtus aeterna habetur, \\nabides\\n, S.—\\nTo make, render\\n: uti eos manifestos habeant, S.:\\n                pascua publica infesta, L.—With \\nP. perf. pass\\n., periphrast. for perf\\n\\nact.\\n: vectigalia redempta, \\nhas brought in and holds\\n, Cs.: domitas libidines: quae conlecta habent\\n                Stoici: de Caesare satis dictum: pericula consueta, S.:\\n                neque ea res falsum me habuit, S.: edita facinora, L.—\\nTo treat, use, handle\\n: duriter se, T.: equitatu agmen adversariorum male, Cs.: exercitum luxuriose, S.: eos non pro vanis\\n                hostibus, sed liberaliter, S.: saucii maiore\\n                curā habiti, L.—\\nTo hold, direct, turn, keep\\n: iter hac, T.: iter\\n                ad legiones, Cs.—\\nTo hold, pronounce, deliver, utter, make\\n: orationem de ratione censoriā: contionem ad\\n                urbem: post habitam contionem: gratulationibus habendis celebramur: quae (querelae)\\n                apud me de illo habebantur: verba.—\\nTo hold, convene, conduct, cause to take place\\n: comitia haberi siturus: senatum, Cs.:\\n                censum: Consilium summis de rebus, V.—\\nTo hold, govern, administer, manage, wield\\n: rem p., S.: qui\\n                cultus habendo Sit pecori, V.: animus habet\\n                cuncta, neque ipse habetur, S.: aptat\\n                habendo Ensem, V.—Of rank or position, \\nto hold, take, occupy\\n: priores partīs Apud me, T.:\\n                Statum de tribus secundarium.—Fig., \\nto have, have in mind, entertain, cherish, experience, exhibit, be actuated\\n                by\\n: si quid consili Habet, T.: alienum animum a causā: tantum animi ad audaciam: plus animi\\n                quam consili: amorem in rem p.: in consilio fidem: gratiam, gratias habere; see\\n                gratia.—\\nTo have, have in mind, mean, wish, be able\\n: haec habebam fere, quae te scire vellem, \\nthis was in substance what\\n, etc.: haec habui de amicitiā quae dicerem: quod huic responderet,\\n            non habebat: haec fere dicere habui de, etc.: illud adfirmare pro certo habeo,\\n            L.—Prov.: quā digitum proferat non habet.—With \\nP. fut. pass., to have, be bound\\n: utrumne de furto dicendum habeas, Ta.:\\n                si nunc primum statuendum haberemus, Ta. —\\nTo have, have in mind, know, be acquainted with, be informed of\\n: regis matrem habemus, ignoramus patrem: habes consilia\\n                nostra, \\nsuch are\\n: In memoriā habeo, \\nI remember\\n, T.: age, si quid habes,\\n            V.—With \\nin animo, to have in mind, purpose, intend, be inclined\\n: rogavi, ut diceret quid haberet in animo: istum exheredare\\n                in animo habebat: hoc (flumen) transire, Cs.: bello eum adiuvare, L. —\\nTo have in mind, hold, think, believe, esteem, regard, look upon\\n: neque vos neque deos in animo, S.:\\n                haec habitast soror, T.: alquos magno in honore, Cs.: Iunium\\n                (mensem) in metu, \\nbe afraid of\\n: omnīs uno ordine Achivos, \\nall alike\\n, V.: hi numero inpiorum habentur,\\n                Cs.: quem nefas habent nominare: deos aeternos:\\n                habitus non futtilis auctor, V.: cum esset\\n                habendus rex: non nauci augurem: cuius auctoritas magni haberetur,\\n                Cs.: id pro non dicto habendum,\\n            L.: sic habeto, non esse, etc.: non necesse\\n            habeo dicere: eam rem habuit religioni, \\na matter of conscience\\n: ludibrio haberi, T.: duritiam voluptati, \\nregard as pleasure\\n, S.—\\nTo have, have received, have acquired, have made, have incurred\\n: a me beneficia, Cs.: tantos progressūs in Stoicis.—With \\nsatis, to have enough, be content, be satisfied\\n: sat habeo, T.: a me\\n                satis habent, tamen plus habebunt: non satis habitum est, quaeri, etc.—\\nTo have, be characterized by, exercise, practise\\n: salem, T.: habet\\n                hoc virtus, ut, etc., \\nthis is characteristic of merit\\n: locus nihil habet religionis: celerem motum,\\n                Cs.: neque modum neque modestiam,\\n            S.: silentium haberi iussit, \\nobserved\\n, S.: habebat hoc Caesar, quem cognorat,\\n            etc., \\nthis was Caesar's way\\n: ornamenta dicendi.—\\nTo have, involve, bring, render, occasion, produce, excite\\n: primus adventus equitatūs habuit interitum: habet\\n                amoenitas ipsa inlecebras: latrocinia nullam habent infamiam, Cs.—\\nTo hold, keep, occupy, engage, busy, exercise, inspire\\n: hoc male habet virum, \\nvexes\\n, T.: animalia somnus habebat,\\n            V.: sollicitum te habebat cogitatio periculi: Qui (metus)\\n                maior absentīs habet, H.—\\nTo take, accept, bear, endure\\n: eas (iniurias) gravius aequo, S.:\\n                aegre filium id ausum, L.—\\nTo keep, reserve, conceal\\n: Non clam me haberet quod, etc., T.:\\n                secreto hoc audi, tecum habeto.—\\nTo keep, spend, pass\\n: adulescentiam, S.: aetatem procul a re p., S.—With \\nrem, to have to do, be intimate\\n: quocum uno rem habebam, T.\"), Word(index_char_start=None, index_char_stop=None, index_token=2, index_sentence=0, string='IX', pos=numeral, lemma='IX', stem=None, scansion=None, xpos='G5', upos='NUM', dependency_relation='obl', governor=1, features={NumForm: [digit]}, category={F: [pos], N: [pos], V: [neg]}, stop=False, named_entity=None, syllables=None, phonetic_transcription=None, definition=''), Word(index_char_start=None, index_char_stop=None, index_token=3, index_sentence=0, string='naves', pos=noun, lemma='naves', stem=None, scansion=None, xpos='C1|grn1|casM|gen2', upos='NOUN', dependency_relation='obj', governor=1, features={Case: [accusative], Gender: [feminine], Number: [plural]}, category={F: [neg], N: [pos], V: [neg]}, stop=False, named_entity=None, syllables=None, phonetic_transcription=None, definition='')]\n",
      "['Herkules']\n",
      "[{'name': 'Herkules', 'type': 'number', 'value': 9}]\n"
     ]
    }
   ],
   "source": [
    "stack = []\n",
    "programmCounter = -1\n",
    "\n",
    "\n",
    "with open(\"text.txt\") as f:\n",
    "    text = f.readlines()\n",
    "    for i in range(len(text)):\n",
    "        programmCounter += 1\n",
    "        line = text[i]\n",
    "        words = []\n",
    "        analysis = cltk_nlp.analyze(text=line)\n",
    "        \n",
    "        \n",
    "        \n",
    "        words = [{\"word\": word.string, \"pos\": word.upos, \"features\": word.features, \"lemma\": word.lemma} for word in analysis.words]\n",
    "        #for word in words:\n",
    "        if any(entry[\"lemma\"]==\"appero\" for entry in words):\n",
    "            target_case = '[nominative]'\n",
    "            matching_words = [entry['word'] for entry in words if entry[\"pos\"] == \"NOUN\" and target_case in str(entry['features'][\"Case\"])]\n",
    "            if len(matching_words) == 1:\n",
    "                stack.append({\"name\": matching_words[0], \"type\": \"undefined\", \"value\": \"undefined\"})\n",
    "                print(\"Added variable \" + matching_words[0])\n",
    "            elif len(matching_words) > 1:\n",
    "                VariableException(\"Too many matching words\")\n",
    "            continue\n",
    "        \n",
    "        \n",
    "        \n",
    "        foundNumbers = [entry['word'] for entry in words if entry[\"pos\"] == \"NUM\"]\n",
    "        if len(foundNumbers) == 1:\n",
    "            target_case = '[nominative]'\n",
    "            foundVariable = [entry['word'] for entry in words if entry[\"pos\"] == \"NOUN\" and target_case in str(entry['features'][\"Case\"])]\n",
    "            print(foundVariable)\n",
    "            if len(foundVariable) == 1:\n",
    "                variable = foundVariable[0]\n",
    "                for i in stack:\n",
    "                    if i[\"name\"] == variable:\n",
    "                        i[\"value\"] = translate_latin_to_normal(foundNumbers[0])\n",
    "                        i[\"type\"] = \"number\"\n",
    "                        break\n",
    "        \n",
    "        \n",
    "\n",
    "            \n",
    "\n",
    "    \n",
    "\n",
    "\n",
    "# doc = cltk_nlp.analyze(text=\"ita otium, quod in advorsis rebus optaverant, postquam adepti sunt, asperius acerbiusque fuit\")\n",
    "\n",
    "# Print the analysis\n",
    "# for word in doc.words:\n",
    "#     print(word.string, word.upos, word.features)"
   ]
  }
 ],
 "metadata": {
  "kernelspec": {
   "display_name": "transformer-lang",
   "language": "python",
   "name": "python3"
  },
  "language_info": {
   "codemirror_mode": {
    "name": "ipython",
    "version": 3
   },
   "file_extension": ".py",
   "mimetype": "text/x-python",
   "name": "python",
   "nbconvert_exporter": "python",
   "pygments_lexer": "ipython3",
   "version": "3.10.10"
  },
  "orig_nbformat": 4
 },
 "nbformat": 4,
 "nbformat_minor": 2
}
